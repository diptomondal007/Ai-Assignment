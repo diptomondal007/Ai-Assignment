{
  "nbformat": 4,
  "nbformat_minor": 0,
  "metadata": {
    "colab": {
      "name": "house rent prediction using linear regression.ipynb",
      "provenance": [],
      "authorship_tag": "ABX9TyOLoxKjhPwweT6VnbUTzOm4",
      "include_colab_link": true
    },
    "kernelspec": {
      "name": "python3",
      "display_name": "Python 3"
    }
  },
  "cells": [
    {
      "cell_type": "markdown",
      "metadata": {
        "id": "view-in-github",
        "colab_type": "text"
      },
      "source": [
        "<a href=\"https://colab.research.google.com/github/diptomondal007/Ai-Assignment/blob/main/house_rent_prediction_using_linear_regression.ipynb\" target=\"_parent\"><img src=\"https://colab.research.google.com/assets/colab-badge.svg\" alt=\"Open In Colab\"/></a>"
      ]
    },
    {
      "cell_type": "code",
      "metadata": {
        "id": "3Gii_CvvXbtB"
      },
      "source": [
        "from google.colab import files\n",
        "import pandas as pd\n",
        "import numpy as np\n",
        "import matplotlib.pyplot as plt\n",
        "import seaborn as sns\n",
        "sns.set()\n",
        "%matplotlib inline"
      ],
      "execution_count": 43,
      "outputs": []
    },
    {
      "cell_type": "code",
      "metadata": {
        "colab": {
          "resources": {
            "http://localhost:8080/nbextensions/google.colab/files.js": {
              "data": "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",
              "ok": true,
              "headers": [
                [
                  "content-type",
                  "application/javascript"
                ]
              ],
              "status": 200,
              "status_text": ""
            }
          },
          "base_uri": "https://localhost:8080/",
          "height": 72
        },
        "id": "d1p60ZClf9ag",
        "outputId": "cfcd3603-cb42-47be-f23e-8a93fb192aef"
      },
      "source": [
        "uploaded = files.upload()"
      ],
      "execution_count": 4,
      "outputs": [
        {
          "output_type": "display_data",
          "data": {
            "text/html": [
              "\n",
              "     <input type=\"file\" id=\"files-4acc0086-df06-45da-ba7d-0963d184095e\" name=\"files[]\" multiple disabled\n",
              "        style=\"border:none\" />\n",
              "     <output id=\"result-4acc0086-df06-45da-ba7d-0963d184095e\">\n",
              "      Upload widget is only available when the cell has been executed in the\n",
              "      current browser session. Please rerun this cell to enable.\n",
              "      </output>\n",
              "      <script src=\"/nbextensions/google.colab/files.js\"></script> "
            ],
            "text/plain": [
              "<IPython.core.display.HTML object>"
            ]
          },
          "metadata": {
            "tags": []
          }
        },
        {
          "output_type": "stream",
          "text": [
            "Saving RentRaw.csv to RentRaw.csv\n"
          ],
          "name": "stdout"
        }
      ]
    },
    {
      "cell_type": "code",
      "metadata": {
        "id": "mNI_8CDjjxMx"
      },
      "source": [
        "for f in uploaded.keys():\n",
        "  data_frame = pd.read_csv(f, index_col=0, low_memory=False)"
      ],
      "execution_count": 101,
      "outputs": []
    },
    {
      "cell_type": "code",
      "metadata": {
        "colab": {
          "base_uri": "https://localhost:8080/",
          "height": 340
        },
        "id": "lg0e8DTt-eWh",
        "outputId": "80f44eea-d580-405e-dc35-9a724ccf39bf"
      },
      "source": [
        "data_frame.head()"
      ],
      "execution_count": 102,
      "outputs": [
        {
          "output_type": "execute_result",
          "data": {
            "text/html": [
              "<div>\n",
              "<style scoped>\n",
              "    .dataframe tbody tr th:only-of-type {\n",
              "        vertical-align: middle;\n",
              "    }\n",
              "\n",
              "    .dataframe tbody tr th {\n",
              "        vertical-align: top;\n",
              "    }\n",
              "\n",
              "    .dataframe thead th {\n",
              "        text-align: right;\n",
              "    }\n",
              "</style>\n",
              "<table border=\"1\" class=\"dataframe\">\n",
              "  <thead>\n",
              "    <tr style=\"text-align: right;\">\n",
              "      <th></th>\n",
              "      <th>BuiltUpSize</th>\n",
              "      <th>City</th>\n",
              "      <th>CreatedDateTime</th>\n",
              "      <th>CreatedUser</th>\n",
              "      <th>DataSourceID</th>\n",
              "      <th>Furnishing</th>\n",
              "      <th>Latitude</th>\n",
              "      <th>Longitude</th>\n",
              "      <th>NoOfBathroom</th>\n",
              "      <th>NoOfBedroom</th>\n",
              "      <th>NoOfParking</th>\n",
              "      <th>Postcode</th>\n",
              "      <th>PostedDate</th>\n",
              "      <th>PropertyAddress</th>\n",
              "      <th>PropertyName</th>\n",
              "      <th>PropertyType</th>\n",
              "      <th>RentalPerMth</th>\n",
              "      <th>SourceUrl</th>\n",
              "      <th>State</th>\n",
              "      <th>UpdatedDateTime</th>\n",
              "      <th>UpdatedUser</th>\n",
              "    </tr>\n",
              "    <tr>\n",
              "      <th>ID</th>\n",
              "      <th></th>\n",
              "      <th></th>\n",
              "      <th></th>\n",
              "      <th></th>\n",
              "      <th></th>\n",
              "      <th></th>\n",
              "      <th></th>\n",
              "      <th></th>\n",
              "      <th></th>\n",
              "      <th></th>\n",
              "      <th></th>\n",
              "      <th></th>\n",
              "      <th></th>\n",
              "      <th></th>\n",
              "      <th></th>\n",
              "      <th></th>\n",
              "      <th></th>\n",
              "      <th></th>\n",
              "      <th></th>\n",
              "      <th></th>\n",
              "      <th></th>\n",
              "    </tr>\n",
              "  </thead>\n",
              "  <tbody>\n",
              "    <tr>\n",
              "      <th>1</th>\n",
              "      <td>1000</td>\n",
              "      <td>Bandar Utama</td>\n",
              "      <td>2018-08-04 09:31:52</td>\n",
              "      <td>SYSTEM_TH</td>\n",
              "      <td>4</td>\n",
              "      <td>Fully Furnished</td>\n",
              "      <td>3.14195</td>\n",
              "      <td>101.616</td>\n",
              "      <td>2</td>\n",
              "      <td>3</td>\n",
              "      <td>1</td>\n",
              "      <td>47400</td>\n",
              "      <td>2018-07-30 00:00:00</td>\n",
              "      <td>Jalan Masjid</td>\n",
              "      <td>Pelangi Utama</td>\n",
              "      <td>Condominium</td>\n",
              "      <td>2200</td>\n",
              "      <td>https://www.iproperty.com.my/property/bandar-u...</td>\n",
              "      <td>Selangor</td>\n",
              "      <td>2018-08-04 09:31:52</td>\n",
              "      <td>SYSTEM_TH\\r</td>\n",
              "    </tr>\n",
              "    <tr>\n",
              "      <th>2</th>\n",
              "      <td>1000</td>\n",
              "      <td>Bandar Utama</td>\n",
              "      <td>2018-08-04 09:31:52</td>\n",
              "      <td>SYSTEM_TH</td>\n",
              "      <td>4</td>\n",
              "      <td>Fully Furnished</td>\n",
              "      <td>3.14195</td>\n",
              "      <td>101.616</td>\n",
              "      <td>2</td>\n",
              "      <td>3</td>\n",
              "      <td>1</td>\n",
              "      <td>47400</td>\n",
              "      <td>2018-07-30 00:00:00</td>\n",
              "      <td>Jalan Masjid</td>\n",
              "      <td>Pelangi Utama</td>\n",
              "      <td>Condominium</td>\n",
              "      <td>2200</td>\n",
              "      <td>https://www.iproperty.com.my/property/bandar-u...</td>\n",
              "      <td>Selangor</td>\n",
              "      <td>2018-08-04 09:31:52</td>\n",
              "      <td>SYSTEM_TH\\r</td>\n",
              "    </tr>\n",
              "    <tr>\n",
              "      <th>3</th>\n",
              "      <td>1057</td>\n",
              "      <td>Petaling Jaya</td>\n",
              "      <td>2018-08-04 09:31:52</td>\n",
              "      <td>SYSTEM_TH</td>\n",
              "      <td>4</td>\n",
              "      <td>Fully Furnished</td>\n",
              "      <td>3.12252</td>\n",
              "      <td>101.628</td>\n",
              "      <td>2</td>\n",
              "      <td>3</td>\n",
              "      <td>1</td>\n",
              "      <td>47300</td>\n",
              "      <td>2018-07-30 00:00:00</td>\n",
              "      <td>Jalan SS 2/72</td>\n",
              "      <td>Ken Damansara 3</td>\n",
              "      <td>Condominium</td>\n",
              "      <td>1980</td>\n",
              "      <td>https://www.iproperty.com.my/property/petaling...</td>\n",
              "      <td>Selangor</td>\n",
              "      <td>2018-08-04 09:31:52</td>\n",
              "      <td>SYSTEM_TH\\r</td>\n",
              "    </tr>\n",
              "    <tr>\n",
              "      <th>4</th>\n",
              "      <td>1057</td>\n",
              "      <td>Petaling Jaya</td>\n",
              "      <td>2018-08-04 09:31:52</td>\n",
              "      <td>SYSTEM_TH</td>\n",
              "      <td>4</td>\n",
              "      <td>Fully Furnished</td>\n",
              "      <td>3.12252</td>\n",
              "      <td>101.628</td>\n",
              "      <td>2</td>\n",
              "      <td>3</td>\n",
              "      <td>1</td>\n",
              "      <td>47300</td>\n",
              "      <td>2018-07-30 00:00:00</td>\n",
              "      <td>Jalan SS 2/72</td>\n",
              "      <td>Ken Damansara 3</td>\n",
              "      <td>Condominium</td>\n",
              "      <td>1980</td>\n",
              "      <td>https://www.iproperty.com.my/property/petaling...</td>\n",
              "      <td>Selangor</td>\n",
              "      <td>2018-08-04 09:31:52</td>\n",
              "      <td>SYSTEM_TH\\r</td>\n",
              "    </tr>\n",
              "    <tr>\n",
              "      <th>5</th>\n",
              "      <td>0</td>\n",
              "      <td>Bandar Sunway</td>\n",
              "      <td>2018-08-04 09:31:52</td>\n",
              "      <td>SYSTEM_TH</td>\n",
              "      <td>4</td>\n",
              "      <td>Fully Furnished</td>\n",
              "      <td>3.05930</td>\n",
              "      <td>101.616</td>\n",
              "      <td>2</td>\n",
              "      <td>2</td>\n",
              "      <td>0</td>\n",
              "      <td>47100</td>\n",
              "      <td>2018-07-30 00:00:00</td>\n",
              "      <td>Jalan Taylors</td>\n",
              "      <td>D' Latour</td>\n",
              "      <td>Condominium</td>\n",
              "      <td>2600</td>\n",
              "      <td>https://www.iproperty.com.my/property/bandar-s...</td>\n",
              "      <td>Selangor</td>\n",
              "      <td>2018-08-04 09:31:52</td>\n",
              "      <td>SYSTEM_TH\\r</td>\n",
              "    </tr>\n",
              "  </tbody>\n",
              "</table>\n",
              "</div>"
            ],
            "text/plain": [
              "    BuiltUpSize           City  ...      UpdatedDateTime  UpdatedUser\n",
              "ID                              ...                                  \n",
              "1          1000   Bandar Utama  ...  2018-08-04 09:31:52  SYSTEM_TH\\r\n",
              "2          1000   Bandar Utama  ...  2018-08-04 09:31:52  SYSTEM_TH\\r\n",
              "3          1057  Petaling Jaya  ...  2018-08-04 09:31:52  SYSTEM_TH\\r\n",
              "4          1057  Petaling Jaya  ...  2018-08-04 09:31:52  SYSTEM_TH\\r\n",
              "5             0  Bandar Sunway  ...  2018-08-04 09:31:52  SYSTEM_TH\\r\n",
              "\n",
              "[5 rows x 21 columns]"
            ]
          },
          "metadata": {
            "tags": []
          },
          "execution_count": 102
        }
      ]
    },
    {
      "cell_type": "code",
      "metadata": {
        "colab": {
          "base_uri": "https://localhost:8080/"
        },
        "id": "iRQePv9B-o_3",
        "outputId": "de5ebfd0-ff07-4a40-e9ab-099a3a0ccf6c"
      },
      "source": [
        "data_frame.isnull().sum()"
      ],
      "execution_count": 103,
      "outputs": [
        {
          "output_type": "execute_result",
          "data": {
            "text/plain": [
              "BuiltUpSize         0\n",
              "City               14\n",
              "CreatedDateTime     0\n",
              "CreatedUser         0\n",
              "DataSourceID        0\n",
              "Furnishing          0\n",
              "Latitude            0\n",
              "Longitude           0\n",
              "NoOfBathroom        0\n",
              "NoOfBedroom         0\n",
              "NoOfParking         0\n",
              "Postcode            0\n",
              "PostedDate          0\n",
              "PropertyAddress    51\n",
              "PropertyName        0\n",
              "PropertyType        0\n",
              "RentalPerMth        0\n",
              "SourceUrl           0\n",
              "State               0\n",
              "UpdatedDateTime     0\n",
              "UpdatedUser         0\n",
              "dtype: int64"
            ]
          },
          "metadata": {
            "tags": []
          },
          "execution_count": 103
        }
      ]
    },
    {
      "cell_type": "code",
      "metadata": {
        "colab": {
          "base_uri": "https://localhost:8080/",
          "height": 297
        },
        "id": "cZiEVvFX-zJt",
        "outputId": "9e46d528-0f68-4ebc-fac8-05a60de13296"
      },
      "source": [
        "data_frame.describe()"
      ],
      "execution_count": 104,
      "outputs": [
        {
          "output_type": "execute_result",
          "data": {
            "text/html": [
              "<div>\n",
              "<style scoped>\n",
              "    .dataframe tbody tr th:only-of-type {\n",
              "        vertical-align: middle;\n",
              "    }\n",
              "\n",
              "    .dataframe tbody tr th {\n",
              "        vertical-align: top;\n",
              "    }\n",
              "\n",
              "    .dataframe thead th {\n",
              "        text-align: right;\n",
              "    }\n",
              "</style>\n",
              "<table border=\"1\" class=\"dataframe\">\n",
              "  <thead>\n",
              "    <tr style=\"text-align: right;\">\n",
              "      <th></th>\n",
              "      <th>BuiltUpSize</th>\n",
              "      <th>DataSourceID</th>\n",
              "      <th>Latitude</th>\n",
              "      <th>Longitude</th>\n",
              "      <th>NoOfBathroom</th>\n",
              "      <th>NoOfBedroom</th>\n",
              "      <th>NoOfParking</th>\n",
              "      <th>RentalPerMth</th>\n",
              "    </tr>\n",
              "  </thead>\n",
              "  <tbody>\n",
              "    <tr>\n",
              "      <th>count</th>\n",
              "      <td>54405.000000</td>\n",
              "      <td>54405.000000</td>\n",
              "      <td>54405.000000</td>\n",
              "      <td>54405.000000</td>\n",
              "      <td>54405.000000</td>\n",
              "      <td>54405.000000</td>\n",
              "      <td>54405.000000</td>\n",
              "      <td>5.440500e+04</td>\n",
              "    </tr>\n",
              "    <tr>\n",
              "      <th>mean</th>\n",
              "      <td>1307.539381</td>\n",
              "      <td>22.776804</td>\n",
              "      <td>0.001914</td>\n",
              "      <td>0.063496</td>\n",
              "      <td>2.276078</td>\n",
              "      <td>1.716938</td>\n",
              "      <td>1.110339</td>\n",
              "      <td>4.078712e+03</td>\n",
              "    </tr>\n",
              "    <tr>\n",
              "      <th>std</th>\n",
              "      <td>946.439842</td>\n",
              "      <td>2.686957</td>\n",
              "      <td>0.076573</td>\n",
              "      <td>2.539170</td>\n",
              "      <td>1.183571</td>\n",
              "      <td>1.469507</td>\n",
              "      <td>1.057207</td>\n",
              "      <td>6.395336e+04</td>\n",
              "    </tr>\n",
              "    <tr>\n",
              "      <th>min</th>\n",
              "      <td>0.000000</td>\n",
              "      <td>4.000000</td>\n",
              "      <td>0.000000</td>\n",
              "      <td>0.000000</td>\n",
              "      <td>0.000000</td>\n",
              "      <td>0.000000</td>\n",
              "      <td>0.000000</td>\n",
              "      <td>1.100000e+01</td>\n",
              "    </tr>\n",
              "    <tr>\n",
              "      <th>25%</th>\n",
              "      <td>825.000000</td>\n",
              "      <td>21.000000</td>\n",
              "      <td>0.000000</td>\n",
              "      <td>0.000000</td>\n",
              "      <td>2.000000</td>\n",
              "      <td>0.000000</td>\n",
              "      <td>0.000000</td>\n",
              "      <td>1.500000e+03</td>\n",
              "    </tr>\n",
              "    <tr>\n",
              "      <th>50%</th>\n",
              "      <td>1057.000000</td>\n",
              "      <td>23.000000</td>\n",
              "      <td>0.000000</td>\n",
              "      <td>0.000000</td>\n",
              "      <td>2.000000</td>\n",
              "      <td>2.000000</td>\n",
              "      <td>1.000000</td>\n",
              "      <td>2.000000e+03</td>\n",
              "    </tr>\n",
              "    <tr>\n",
              "      <th>75%</th>\n",
              "      <td>1426.000000</td>\n",
              "      <td>24.000000</td>\n",
              "      <td>0.000000</td>\n",
              "      <td>0.000000</td>\n",
              "      <td>3.000000</td>\n",
              "      <td>3.000000</td>\n",
              "      <td>2.000000</td>\n",
              "      <td>3.000000e+03</td>\n",
              "    </tr>\n",
              "    <tr>\n",
              "      <th>max</th>\n",
              "      <td>23649.000000</td>\n",
              "      <td>26.000000</td>\n",
              "      <td>3.141950</td>\n",
              "      <td>101.655000</td>\n",
              "      <td>20.000000</td>\n",
              "      <td>15.000000</td>\n",
              "      <td>30.000000</td>\n",
              "      <td>8.800000e+06</td>\n",
              "    </tr>\n",
              "  </tbody>\n",
              "</table>\n",
              "</div>"
            ],
            "text/plain": [
              "        BuiltUpSize  DataSourceID  ...   NoOfParking  RentalPerMth\n",
              "count  54405.000000  54405.000000  ...  54405.000000  5.440500e+04\n",
              "mean    1307.539381     22.776804  ...      1.110339  4.078712e+03\n",
              "std      946.439842      2.686957  ...      1.057207  6.395336e+04\n",
              "min        0.000000      4.000000  ...      0.000000  1.100000e+01\n",
              "25%      825.000000     21.000000  ...      0.000000  1.500000e+03\n",
              "50%     1057.000000     23.000000  ...      1.000000  2.000000e+03\n",
              "75%     1426.000000     24.000000  ...      2.000000  3.000000e+03\n",
              "max    23649.000000     26.000000  ...     30.000000  8.800000e+06\n",
              "\n",
              "[8 rows x 8 columns]"
            ]
          },
          "metadata": {
            "tags": []
          },
          "execution_count": 104
        }
      ]
    },
    {
      "cell_type": "code",
      "metadata": {
        "id": "95nfFPl_-2r4"
      },
      "source": [
        "data_frame = data_frame.dropna()"
      ],
      "execution_count": 105,
      "outputs": []
    },
    {
      "cell_type": "code",
      "metadata": {
        "id": "3uVkiLhb_Agm"
      },
      "source": [
        "data_frame = data_frame.reset_index(drop=True)"
      ],
      "execution_count": 106,
      "outputs": []
    },
    {
      "cell_type": "code",
      "metadata": {
        "colab": {
          "base_uri": "https://localhost:8080/"
        },
        "id": "ANisH6pm_Jc3",
        "outputId": "08834446-9d1a-43dc-f734-950ec4b98b8e"
      },
      "source": [
        "data_frame.isnull().sum()"
      ],
      "execution_count": 107,
      "outputs": [
        {
          "output_type": "execute_result",
          "data": {
            "text/plain": [
              "BuiltUpSize        0\n",
              "City               0\n",
              "CreatedDateTime    0\n",
              "CreatedUser        0\n",
              "DataSourceID       0\n",
              "Furnishing         0\n",
              "Latitude           0\n",
              "Longitude          0\n",
              "NoOfBathroom       0\n",
              "NoOfBedroom        0\n",
              "NoOfParking        0\n",
              "Postcode           0\n",
              "PostedDate         0\n",
              "PropertyAddress    0\n",
              "PropertyName       0\n",
              "PropertyType       0\n",
              "RentalPerMth       0\n",
              "SourceUrl          0\n",
              "State              0\n",
              "UpdatedDateTime    0\n",
              "UpdatedUser        0\n",
              "dtype: int64"
            ]
          },
          "metadata": {
            "tags": []
          },
          "execution_count": 107
        }
      ]
    },
    {
      "cell_type": "code",
      "metadata": {
        "colab": {
          "base_uri": "https://localhost:8080/",
          "height": 326
        },
        "id": "ZH7H_hkG_dEn",
        "outputId": "2fe4c51e-ba14-4061-d5c6-d5846e13765e"
      },
      "source": [
        "print(\"There are {} duplicated values.\".format(data_frame.duplicated().sum()))\n",
        "data_frame[data_frame.duplicated(keep=False)].head()"
      ],
      "execution_count": 108,
      "outputs": [
        {
          "output_type": "stream",
          "text": [
            "There are 25229 duplicated values.\n"
          ],
          "name": "stdout"
        },
        {
          "output_type": "execute_result",
          "data": {
            "text/html": [
              "<div>\n",
              "<style scoped>\n",
              "    .dataframe tbody tr th:only-of-type {\n",
              "        vertical-align: middle;\n",
              "    }\n",
              "\n",
              "    .dataframe tbody tr th {\n",
              "        vertical-align: top;\n",
              "    }\n",
              "\n",
              "    .dataframe thead th {\n",
              "        text-align: right;\n",
              "    }\n",
              "</style>\n",
              "<table border=\"1\" class=\"dataframe\">\n",
              "  <thead>\n",
              "    <tr style=\"text-align: right;\">\n",
              "      <th></th>\n",
              "      <th>BuiltUpSize</th>\n",
              "      <th>City</th>\n",
              "      <th>CreatedDateTime</th>\n",
              "      <th>CreatedUser</th>\n",
              "      <th>DataSourceID</th>\n",
              "      <th>Furnishing</th>\n",
              "      <th>Latitude</th>\n",
              "      <th>Longitude</th>\n",
              "      <th>NoOfBathroom</th>\n",
              "      <th>NoOfBedroom</th>\n",
              "      <th>NoOfParking</th>\n",
              "      <th>Postcode</th>\n",
              "      <th>PostedDate</th>\n",
              "      <th>PropertyAddress</th>\n",
              "      <th>PropertyName</th>\n",
              "      <th>PropertyType</th>\n",
              "      <th>RentalPerMth</th>\n",
              "      <th>SourceUrl</th>\n",
              "      <th>State</th>\n",
              "      <th>UpdatedDateTime</th>\n",
              "      <th>UpdatedUser</th>\n",
              "    </tr>\n",
              "  </thead>\n",
              "  <tbody>\n",
              "    <tr>\n",
              "      <th>0</th>\n",
              "      <td>1000</td>\n",
              "      <td>Bandar Utama</td>\n",
              "      <td>2018-08-04 09:31:52</td>\n",
              "      <td>SYSTEM_TH</td>\n",
              "      <td>4</td>\n",
              "      <td>Fully Furnished</td>\n",
              "      <td>3.14195</td>\n",
              "      <td>101.616</td>\n",
              "      <td>2</td>\n",
              "      <td>3</td>\n",
              "      <td>1</td>\n",
              "      <td>47400</td>\n",
              "      <td>2018-07-30 00:00:00</td>\n",
              "      <td>Jalan Masjid</td>\n",
              "      <td>Pelangi Utama</td>\n",
              "      <td>Condominium</td>\n",
              "      <td>2200</td>\n",
              "      <td>https://www.iproperty.com.my/property/bandar-u...</td>\n",
              "      <td>Selangor</td>\n",
              "      <td>2018-08-04 09:31:52</td>\n",
              "      <td>SYSTEM_TH\\r</td>\n",
              "    </tr>\n",
              "    <tr>\n",
              "      <th>1</th>\n",
              "      <td>1000</td>\n",
              "      <td>Bandar Utama</td>\n",
              "      <td>2018-08-04 09:31:52</td>\n",
              "      <td>SYSTEM_TH</td>\n",
              "      <td>4</td>\n",
              "      <td>Fully Furnished</td>\n",
              "      <td>3.14195</td>\n",
              "      <td>101.616</td>\n",
              "      <td>2</td>\n",
              "      <td>3</td>\n",
              "      <td>1</td>\n",
              "      <td>47400</td>\n",
              "      <td>2018-07-30 00:00:00</td>\n",
              "      <td>Jalan Masjid</td>\n",
              "      <td>Pelangi Utama</td>\n",
              "      <td>Condominium</td>\n",
              "      <td>2200</td>\n",
              "      <td>https://www.iproperty.com.my/property/bandar-u...</td>\n",
              "      <td>Selangor</td>\n",
              "      <td>2018-08-04 09:31:52</td>\n",
              "      <td>SYSTEM_TH\\r</td>\n",
              "    </tr>\n",
              "    <tr>\n",
              "      <th>2</th>\n",
              "      <td>1057</td>\n",
              "      <td>Petaling Jaya</td>\n",
              "      <td>2018-08-04 09:31:52</td>\n",
              "      <td>SYSTEM_TH</td>\n",
              "      <td>4</td>\n",
              "      <td>Fully Furnished</td>\n",
              "      <td>3.12252</td>\n",
              "      <td>101.628</td>\n",
              "      <td>2</td>\n",
              "      <td>3</td>\n",
              "      <td>1</td>\n",
              "      <td>47300</td>\n",
              "      <td>2018-07-30 00:00:00</td>\n",
              "      <td>Jalan SS 2/72</td>\n",
              "      <td>Ken Damansara 3</td>\n",
              "      <td>Condominium</td>\n",
              "      <td>1980</td>\n",
              "      <td>https://www.iproperty.com.my/property/petaling...</td>\n",
              "      <td>Selangor</td>\n",
              "      <td>2018-08-04 09:31:52</td>\n",
              "      <td>SYSTEM_TH\\r</td>\n",
              "    </tr>\n",
              "    <tr>\n",
              "      <th>3</th>\n",
              "      <td>1057</td>\n",
              "      <td>Petaling Jaya</td>\n",
              "      <td>2018-08-04 09:31:52</td>\n",
              "      <td>SYSTEM_TH</td>\n",
              "      <td>4</td>\n",
              "      <td>Fully Furnished</td>\n",
              "      <td>3.12252</td>\n",
              "      <td>101.628</td>\n",
              "      <td>2</td>\n",
              "      <td>3</td>\n",
              "      <td>1</td>\n",
              "      <td>47300</td>\n",
              "      <td>2018-07-30 00:00:00</td>\n",
              "      <td>Jalan SS 2/72</td>\n",
              "      <td>Ken Damansara 3</td>\n",
              "      <td>Condominium</td>\n",
              "      <td>1980</td>\n",
              "      <td>https://www.iproperty.com.my/property/petaling...</td>\n",
              "      <td>Selangor</td>\n",
              "      <td>2018-08-04 09:31:52</td>\n",
              "      <td>SYSTEM_TH\\r</td>\n",
              "    </tr>\n",
              "    <tr>\n",
              "      <th>4</th>\n",
              "      <td>0</td>\n",
              "      <td>Bandar Sunway</td>\n",
              "      <td>2018-08-04 09:31:52</td>\n",
              "      <td>SYSTEM_TH</td>\n",
              "      <td>4</td>\n",
              "      <td>Fully Furnished</td>\n",
              "      <td>3.05930</td>\n",
              "      <td>101.616</td>\n",
              "      <td>2</td>\n",
              "      <td>2</td>\n",
              "      <td>0</td>\n",
              "      <td>47100</td>\n",
              "      <td>2018-07-30 00:00:00</td>\n",
              "      <td>Jalan Taylors</td>\n",
              "      <td>D' Latour</td>\n",
              "      <td>Condominium</td>\n",
              "      <td>2600</td>\n",
              "      <td>https://www.iproperty.com.my/property/bandar-s...</td>\n",
              "      <td>Selangor</td>\n",
              "      <td>2018-08-04 09:31:52</td>\n",
              "      <td>SYSTEM_TH\\r</td>\n",
              "    </tr>\n",
              "  </tbody>\n",
              "</table>\n",
              "</div>"
            ],
            "text/plain": [
              "   BuiltUpSize           City  ...      UpdatedDateTime  UpdatedUser\n",
              "0         1000   Bandar Utama  ...  2018-08-04 09:31:52  SYSTEM_TH\\r\n",
              "1         1000   Bandar Utama  ...  2018-08-04 09:31:52  SYSTEM_TH\\r\n",
              "2         1057  Petaling Jaya  ...  2018-08-04 09:31:52  SYSTEM_TH\\r\n",
              "3         1057  Petaling Jaya  ...  2018-08-04 09:31:52  SYSTEM_TH\\r\n",
              "4            0  Bandar Sunway  ...  2018-08-04 09:31:52  SYSTEM_TH\\r\n",
              "\n",
              "[5 rows x 21 columns]"
            ]
          },
          "metadata": {
            "tags": []
          },
          "execution_count": 108
        }
      ]
    },
    {
      "cell_type": "code",
      "metadata": {
        "id": "518s34haABwl"
      },
      "source": [
        "data_frame = data_frame.drop_duplicates()\n",
        "data_frame = data_frame.reset_index(drop=True)"
      ],
      "execution_count": 109,
      "outputs": []
    },
    {
      "cell_type": "code",
      "metadata": {
        "colab": {
          "base_uri": "https://localhost:8080/",
          "height": 204
        },
        "id": "UFQ-FObFEXB-",
        "outputId": "42394362-071b-45ba-dbd3-b1d62dfc535f"
      },
      "source": [
        "data_frame = data_frame[[\"BuiltUpSize\", \"NoOfBathroom\", \"NoOfBedroom\", \"NoOfParking\", \"State\", \"Furnishing\", \"PropertyType\", \"RentalPerMth\"]]\n",
        "data_frame.head()"
      ],
      "execution_count": 110,
      "outputs": [
        {
          "output_type": "execute_result",
          "data": {
            "text/html": [
              "<div>\n",
              "<style scoped>\n",
              "    .dataframe tbody tr th:only-of-type {\n",
              "        vertical-align: middle;\n",
              "    }\n",
              "\n",
              "    .dataframe tbody tr th {\n",
              "        vertical-align: top;\n",
              "    }\n",
              "\n",
              "    .dataframe thead th {\n",
              "        text-align: right;\n",
              "    }\n",
              "</style>\n",
              "<table border=\"1\" class=\"dataframe\">\n",
              "  <thead>\n",
              "    <tr style=\"text-align: right;\">\n",
              "      <th></th>\n",
              "      <th>BuiltUpSize</th>\n",
              "      <th>NoOfBathroom</th>\n",
              "      <th>NoOfBedroom</th>\n",
              "      <th>NoOfParking</th>\n",
              "      <th>State</th>\n",
              "      <th>Furnishing</th>\n",
              "      <th>PropertyType</th>\n",
              "      <th>RentalPerMth</th>\n",
              "    </tr>\n",
              "  </thead>\n",
              "  <tbody>\n",
              "    <tr>\n",
              "      <th>0</th>\n",
              "      <td>1000</td>\n",
              "      <td>2</td>\n",
              "      <td>3</td>\n",
              "      <td>1</td>\n",
              "      <td>Selangor</td>\n",
              "      <td>Fully Furnished</td>\n",
              "      <td>Condominium</td>\n",
              "      <td>2200</td>\n",
              "    </tr>\n",
              "    <tr>\n",
              "      <th>1</th>\n",
              "      <td>1057</td>\n",
              "      <td>2</td>\n",
              "      <td>3</td>\n",
              "      <td>1</td>\n",
              "      <td>Selangor</td>\n",
              "      <td>Fully Furnished</td>\n",
              "      <td>Condominium</td>\n",
              "      <td>1980</td>\n",
              "    </tr>\n",
              "    <tr>\n",
              "      <th>2</th>\n",
              "      <td>0</td>\n",
              "      <td>2</td>\n",
              "      <td>2</td>\n",
              "      <td>0</td>\n",
              "      <td>Selangor</td>\n",
              "      <td>Fully Furnished</td>\n",
              "      <td>Condominium</td>\n",
              "      <td>2600</td>\n",
              "    </tr>\n",
              "    <tr>\n",
              "      <th>3</th>\n",
              "      <td>0</td>\n",
              "      <td>1</td>\n",
              "      <td>1</td>\n",
              "      <td>2</td>\n",
              "      <td>Selangor</td>\n",
              "      <td>Fully Furnished</td>\n",
              "      <td>Serviced Residence</td>\n",
              "      <td>1800</td>\n",
              "    </tr>\n",
              "    <tr>\n",
              "      <th>4</th>\n",
              "      <td>1248</td>\n",
              "      <td>3</td>\n",
              "      <td>0</td>\n",
              "      <td>2</td>\n",
              "      <td>Selangor</td>\n",
              "      <td>Partly Furnished</td>\n",
              "      <td>Condominium</td>\n",
              "      <td>1700</td>\n",
              "    </tr>\n",
              "  </tbody>\n",
              "</table>\n",
              "</div>"
            ],
            "text/plain": [
              "   BuiltUpSize  NoOfBathroom  ...        PropertyType  RentalPerMth\n",
              "0         1000             2  ...         Condominium          2200\n",
              "1         1057             2  ...         Condominium          1980\n",
              "2            0             2  ...         Condominium          2600\n",
              "3            0             1  ...  Serviced Residence          1800\n",
              "4         1248             3  ...         Condominium          1700\n",
              "\n",
              "[5 rows x 8 columns]"
            ]
          },
          "metadata": {
            "tags": []
          },
          "execution_count": 110
        }
      ]
    },
    {
      "cell_type": "code",
      "metadata": {
        "colab": {
          "base_uri": "https://localhost:8080/"
        },
        "id": "f5MPy25qAU6_",
        "outputId": "9a0a0b19-aec7-4e8b-e290-32dddf51e58c"
      },
      "source": [
        "data_frame[\"State\"].value_counts()"
      ],
      "execution_count": 111,
      "outputs": [
        {
          "output_type": "execute_result",
          "data": {
            "text/plain": [
              "selangor        16206\n",
              "kuala-lumpur     7237\n",
              "johor            5514\n",
              "putrajaya         134\n",
              "Selangor           20\n",
              "Name: State, dtype: int64"
            ]
          },
          "metadata": {
            "tags": []
          },
          "execution_count": 111
        }
      ]
    },
    {
      "cell_type": "code",
      "metadata": {
        "id": "scNkQ4CPICEk"
      },
      "source": [
        "data_frame[\"State\"] = data_frame[\"State\"].replace(\"Selangor\", \"selangor\")"
      ],
      "execution_count": 112,
      "outputs": []
    },
    {
      "cell_type": "code",
      "metadata": {
        "colab": {
          "base_uri": "https://localhost:8080/"
        },
        "id": "4D_-LmIxIEge",
        "outputId": "d604f6c7-d839-4a71-aaee-290acfd22580"
      },
      "source": [
        "data_frame[\"State\"].value_counts()"
      ],
      "execution_count": 113,
      "outputs": [
        {
          "output_type": "execute_result",
          "data": {
            "text/plain": [
              "selangor        16226\n",
              "kuala-lumpur     7237\n",
              "johor            5514\n",
              "putrajaya         134\n",
              "Name: State, dtype: int64"
            ]
          },
          "metadata": {
            "tags": []
          },
          "execution_count": 113
        }
      ]
    },
    {
      "cell_type": "code",
      "metadata": {
        "colab": {
          "base_uri": "https://localhost:8080/"
        },
        "id": "c-tQW-mVIX5d",
        "outputId": "0f61dc68-2411-4230-c491-1a2bc4ba0e83"
      },
      "source": [
        "data_frame[\"Furnishing\"].value_counts()"
      ],
      "execution_count": 114,
      "outputs": [
        {
          "output_type": "execute_result",
          "data": {
            "text/plain": [
              "Fully Furnished     15553\n",
              "Partly Furnished     9319\n",
              "Unfurnished          4192\n",
              "Unknown                47\n",
              "Name: Furnishing, dtype: int64"
            ]
          },
          "metadata": {
            "tags": []
          },
          "execution_count": 114
        }
      ]
    },
    {
      "cell_type": "code",
      "metadata": {
        "id": "GKNB9McxId4m"
      },
      "source": [
        "data_frame = data_frame[data_frame[\"Furnishing\"] != \"Unknown\"].reset_index(drop=True)"
      ],
      "execution_count": 115,
      "outputs": []
    },
    {
      "cell_type": "code",
      "metadata": {
        "colab": {
          "base_uri": "https://localhost:8080/"
        },
        "id": "L75Jd-_zI4xR",
        "outputId": "2d358242-ae95-46c0-86fb-8a40633fa59c"
      },
      "source": [
        "data_frame[\"Furnishing\"].value_counts()"
      ],
      "execution_count": 117,
      "outputs": [
        {
          "output_type": "execute_result",
          "data": {
            "text/plain": [
              "Fully Furnished     15553\n",
              "Partly Furnished     9319\n",
              "Unfurnished          4192\n",
              "Name: Furnishing, dtype: int64"
            ]
          },
          "metadata": {
            "tags": []
          },
          "execution_count": 117
        }
      ]
    },
    {
      "cell_type": "code",
      "metadata": {
        "id": "HRWyQH3wJguo"
      },
      "source": [
        "data_frame = data_frame[data_frame[\"BuiltUpSize\"] != 0].reset_index(drop=True)\n",
        "\n",
        "data_frame = data_frame[data_frame[\"NoOfBedroom\"] != 0].reset_index(drop=True)\n",
        "\n",
        "data_frame = data_frame[data_frame[\"NoOfBathroom\"] != 0].reset_index(drop=True)\n",
        "\n",
        "data_frame = data_frame[data_frame[\"NoOfParking\"] != 0].reset_index(drop=True)\n",
        "\n",
        "data_frame = data_frame[data_frame[\"RentalPerMth\"] != 0].reset_index(drop=True)"
      ],
      "execution_count": 120,
      "outputs": []
    },
    {
      "cell_type": "code",
      "metadata": {
        "colab": {
          "base_uri": "https://localhost:8080/"
        },
        "id": "ZWPMa0rCJ9kJ",
        "outputId": "328257b9-f13d-4c2f-9e54-ee6cd9712938"
      },
      "source": [
        "with pd.option_context('float_format', '{:f}'.format): print(data_frame[\"RentalPerMth\"].describe())"
      ],
      "execution_count": 125,
      "outputs": [
        {
          "output_type": "stream",
          "text": [
            "count     13086.000000\n",
            "mean       2879.990601\n",
            "std       21623.624529\n",
            "min         110.000000\n",
            "25%        1400.000000\n",
            "50%        1800.000000\n",
            "75%        2500.000000\n",
            "max     1240000.000000\n",
            "Name: RentalPerMth, dtype: float64\n"
          ],
          "name": "stdout"
        }
      ]
    },
    {
      "cell_type": "code",
      "metadata": {
        "colab": {
          "base_uri": "https://localhost:8080/",
          "height": 404
        },
        "id": "3wFkKLF_J_EV",
        "outputId": "e96ff43b-1a1d-46c6-99e0-dd2241d4cdb9"
      },
      "source": [
        "plt.subplot(121)\n",
        "sns.distplot(data_frame[\"RentalPerMth\"]);\n",
        "\n",
        "plt.subplot(122)\n",
        "data_frame[\"RentalPerMth\"].plot.box(figsize=(16,5))\n",
        "\n",
        "plt.show()"
      ],
      "execution_count": 128,
      "outputs": [
        {
          "output_type": "stream",
          "text": [
            "/usr/local/lib/python3.6/dist-packages/seaborn/distributions.py:2551: FutureWarning: `distplot` is a deprecated function and will be removed in a future version. Please adapt your code to use either `displot` (a figure-level function with similar flexibility) or `histplot` (an axes-level function for histograms).\n",
            "  warnings.warn(msg, FutureWarning)\n"
          ],
          "name": "stderr"
        },
        {
          "output_type": "display_data",
          "data": {
            "image/png": "[encoded data removed]",
            "text/plain": [
              "<Figure size 1152x360 with 2 Axes>"
            ]
          },
          "metadata": {
            "tags": [],
            "needs_background": "light"
          }
        }
      ]
    },
    {
      "cell_type": "markdown",
      "metadata": {
        "id": "5e_Bv7k0LQSE"
      },
      "source": [
        "# Removing outlier values"
      ]
    },
    {
      "cell_type": "code",
      "metadata": {
        "id": "7UeIt3b6LJr7"
      },
      "source": [
        "data_frame = data_frame[data_frame[\"RentalPerMth\"] <= 10000].reset_index(drop=True)"
      ],
      "execution_count": 132,
      "outputs": []
    },
    {
      "cell_type": "code",
      "metadata": {
        "colab": {
          "base_uri": "https://localhost:8080/"
        },
        "id": "q_PZag8NLcTW",
        "outputId": "0374d789-b86f-4231-dbf8-ae6c3d74e2f2"
      },
      "source": [
        "with pd.option_context('float_format', '{:f}'.format): print(data_frame[\"RentalPerMth\"].describe())"
      ],
      "execution_count": 134,
      "outputs": [
        {
          "output_type": "stream",
          "text": [
            "count   13016.000000\n",
            "mean     2090.654348\n",
            "std      1072.684678\n",
            "min       110.000000\n",
            "25%      1400.000000\n",
            "50%      1800.000000\n",
            "75%      2500.000000\n",
            "max     10000.000000\n",
            "Name: RentalPerMth, dtype: float64\n"
          ],
          "name": "stdout"
        }
      ]
    },
    {
      "cell_type": "code",
      "metadata": {
        "colab": {
          "base_uri": "https://localhost:8080/",
          "height": 204
        },
        "id": "2H4EZsWyLgob",
        "outputId": "99a08606-238c-47ef-e6d4-23308add18fd"
      },
      "source": [
        "data_frame.head()"
      ],
      "execution_count": 136,
      "outputs": [
        {
          "output_type": "execute_result",
          "data": {
            "text/html": [
              "<div>\n",
              "<style scoped>\n",
              "    .dataframe tbody tr th:only-of-type {\n",
              "        vertical-align: middle;\n",
              "    }\n",
              "\n",
              "    .dataframe tbody tr th {\n",
              "        vertical-align: top;\n",
              "    }\n",
              "\n",
              "    .dataframe thead th {\n",
              "        text-align: right;\n",
              "    }\n",
              "</style>\n",
              "<table border=\"1\" class=\"dataframe\">\n",
              "  <thead>\n",
              "    <tr style=\"text-align: right;\">\n",
              "      <th></th>\n",
              "      <th>BuiltUpSize</th>\n",
              "      <th>NoOfBathroom</th>\n",
              "      <th>NoOfBedroom</th>\n",
              "      <th>NoOfParking</th>\n",
              "      <th>State</th>\n",
              "      <th>Furnishing</th>\n",
              "      <th>PropertyType</th>\n",
              "      <th>RentalPerMth</th>\n",
              "    </tr>\n",
              "  </thead>\n",
              "  <tbody>\n",
              "    <tr>\n",
              "      <th>0</th>\n",
              "      <td>1000</td>\n",
              "      <td>2</td>\n",
              "      <td>3</td>\n",
              "      <td>1</td>\n",
              "      <td>selangor</td>\n",
              "      <td>Fully Furnished</td>\n",
              "      <td>Condominium</td>\n",
              "      <td>2200</td>\n",
              "    </tr>\n",
              "    <tr>\n",
              "      <th>1</th>\n",
              "      <td>1057</td>\n",
              "      <td>2</td>\n",
              "      <td>3</td>\n",
              "      <td>1</td>\n",
              "      <td>selangor</td>\n",
              "      <td>Fully Furnished</td>\n",
              "      <td>Condominium</td>\n",
              "      <td>1980</td>\n",
              "    </tr>\n",
              "    <tr>\n",
              "      <th>2</th>\n",
              "      <td>1488</td>\n",
              "      <td>3</td>\n",
              "      <td>3</td>\n",
              "      <td>3</td>\n",
              "      <td>selangor</td>\n",
              "      <td>Partly Furnished</td>\n",
              "      <td>Condominium</td>\n",
              "      <td>4500</td>\n",
              "    </tr>\n",
              "    <tr>\n",
              "      <th>3</th>\n",
              "      <td>871</td>\n",
              "      <td>2</td>\n",
              "      <td>2</td>\n",
              "      <td>2</td>\n",
              "      <td>selangor</td>\n",
              "      <td>Fully Furnished</td>\n",
              "      <td>Condominium</td>\n",
              "      <td>2500</td>\n",
              "    </tr>\n",
              "    <tr>\n",
              "      <th>4</th>\n",
              "      <td>700</td>\n",
              "      <td>1</td>\n",
              "      <td>1</td>\n",
              "      <td>1</td>\n",
              "      <td>selangor</td>\n",
              "      <td>Partly Furnished</td>\n",
              "      <td>Condominium</td>\n",
              "      <td>1300</td>\n",
              "    </tr>\n",
              "  </tbody>\n",
              "</table>\n",
              "</div>"
            ],
            "text/plain": [
              "   BuiltUpSize  NoOfBathroom  ...  PropertyType  RentalPerMth\n",
              "0         1000             2  ...   Condominium          2200\n",
              "1         1057             2  ...   Condominium          1980\n",
              "2         1488             3  ...   Condominium          4500\n",
              "3          871             2  ...   Condominium          2500\n",
              "4          700             1  ...   Condominium          1300\n",
              "\n",
              "[5 rows x 8 columns]"
            ]
          },
          "metadata": {
            "tags": []
          },
          "execution_count": 136
        }
      ]
    },
    {
      "cell_type": "code",
      "metadata": {
        "colab": {
          "base_uri": "https://localhost:8080/",
          "height": 615
        },
        "id": "J8AKsT9wM944",
        "outputId": "37e749b6-7f99-4931-8924-72872953d099"
      },
      "source": [
        "corr = data_frame.corr()\n",
        "plt.figure(figsize=(10,10))\n",
        "sns.heatmap(corr, annot=True, cmap='coolwarm')"
      ],
      "execution_count": 140,
      "outputs": [
        {
          "output_type": "execute_result",
          "data": {
            "text/plain": [
              "<matplotlib.axes._subplots.AxesSubplot at 0x7f8fc2461780>"
            ]
          },
          "metadata": {
            "tags": []
          },
          "execution_count": 140
        },
        {
          "output_type": "display_data",
          "data": {
            "image/png": "[encoded data removed]",
            "text/plain": [
              "<Figure size 720x720 with 2 Axes>"
            ]
          },
          "metadata": {
            "tags": [],
            "needs_background": "light"
          }
        }
      ]
    },
    {
      "cell_type": "code",
      "metadata": {
        "colab": {
          "base_uri": "https://localhost:8080/",
          "height": 275
        },
        "id": "-QgeqZJANX56",
        "outputId": "8aa8554e-b059-4e65-9675-0522b253fa2c"
      },
      "source": [
        "data_frame_with_dummy = pd.get_dummies(data_frame)\n",
        "data_frame_with_dummy.head()"
      ],
      "execution_count": 142,
      "outputs": [
        {
          "output_type": "execute_result",
          "data": {
            "text/html": [
              "<div>\n",
              "<style scoped>\n",
              "    .dataframe tbody tr th:only-of-type {\n",
              "        vertical-align: middle;\n",
              "    }\n",
              "\n",
              "    .dataframe tbody tr th {\n",
              "        vertical-align: top;\n",
              "    }\n",
              "\n",
              "    .dataframe thead th {\n",
              "        text-align: right;\n",
              "    }\n",
              "</style>\n",
              "<table border=\"1\" class=\"dataframe\">\n",
              "  <thead>\n",
              "    <tr style=\"text-align: right;\">\n",
              "      <th></th>\n",
              "      <th>BuiltUpSize</th>\n",
              "      <th>NoOfBathroom</th>\n",
              "      <th>NoOfBedroom</th>\n",
              "      <th>NoOfParking</th>\n",
              "      <th>RentalPerMth</th>\n",
              "      <th>State_johor</th>\n",
              "      <th>State_kuala-lumpur</th>\n",
              "      <th>State_putrajaya</th>\n",
              "      <th>State_selangor</th>\n",
              "      <th>Furnishing_Fully Furnished</th>\n",
              "      <th>Furnishing_Partly Furnished</th>\n",
              "      <th>Furnishing_Unfurnished</th>\n",
              "      <th>PropertyType_1-sty Terrace/Link House</th>\n",
              "      <th>PropertyType_1.5-sty Terrace/Link House</th>\n",
              "      <th>PropertyType_2-sty Terrace/Link House</th>\n",
              "      <th>PropertyType_2.5-sty Terrace/Link House</th>\n",
              "      <th>PropertyType_3-sty Terrace/Link House</th>\n",
              "      <th>PropertyType_4-sty Terrace/Link House</th>\n",
              "      <th>PropertyType_Apartment</th>\n",
              "      <th>PropertyType_Bungalow</th>\n",
              "      <th>PropertyType_Cluster House</th>\n",
              "      <th>PropertyType_Condominium</th>\n",
              "      <th>PropertyType_Flat</th>\n",
              "      <th>PropertyType_Residential Land</th>\n",
              "      <th>PropertyType_Semi-detached House</th>\n",
              "      <th>PropertyType_Serviced Residence</th>\n",
              "      <th>PropertyType_Townhouse</th>\n",
              "    </tr>\n",
              "  </thead>\n",
              "  <tbody>\n",
              "    <tr>\n",
              "      <th>0</th>\n",
              "      <td>1000</td>\n",
              "      <td>2</td>\n",
              "      <td>3</td>\n",
              "      <td>1</td>\n",
              "      <td>2200</td>\n",
              "      <td>0</td>\n",
              "      <td>0</td>\n",
              "      <td>0</td>\n",
              "      <td>1</td>\n",
              "      <td>1</td>\n",
              "      <td>0</td>\n",
              "      <td>0</td>\n",
              "      <td>0</td>\n",
              "      <td>0</td>\n",
              "      <td>0</td>\n",
              "      <td>0</td>\n",
              "      <td>0</td>\n",
              "      <td>0</td>\n",
              "      <td>0</td>\n",
              "      <td>0</td>\n",
              "      <td>0</td>\n",
              "      <td>1</td>\n",
              "      <td>0</td>\n",
              "      <td>0</td>\n",
              "      <td>0</td>\n",
              "      <td>0</td>\n",
              "      <td>0</td>\n",
              "    </tr>\n",
              "    <tr>\n",
              "      <th>1</th>\n",
              "      <td>1057</td>\n",
              "      <td>2</td>\n",
              "      <td>3</td>\n",
              "      <td>1</td>\n",
              "      <td>1980</td>\n",
              "      <td>0</td>\n",
              "      <td>0</td>\n",
              "      <td>0</td>\n",
              "      <td>1</td>\n",
              "      <td>1</td>\n",
              "      <td>0</td>\n",
              "      <td>0</td>\n",
              "      <td>0</td>\n",
              "      <td>0</td>\n",
              "      <td>0</td>\n",
              "      <td>0</td>\n",
              "      <td>0</td>\n",
              "      <td>0</td>\n",
              "      <td>0</td>\n",
              "      <td>0</td>\n",
              "      <td>0</td>\n",
              "      <td>1</td>\n",
              "      <td>0</td>\n",
              "      <td>0</td>\n",
              "      <td>0</td>\n",
              "      <td>0</td>\n",
              "      <td>0</td>\n",
              "    </tr>\n",
              "    <tr>\n",
              "      <th>2</th>\n",
              "      <td>1488</td>\n",
              "      <td>3</td>\n",
              "      <td>3</td>\n",
              "      <td>3</td>\n",
              "      <td>4500</td>\n",
              "      <td>0</td>\n",
              "      <td>0</td>\n",
              "      <td>0</td>\n",
              "      <td>1</td>\n",
              "      <td>0</td>\n",
              "      <td>1</td>\n",
              "      <td>0</td>\n",
              "      <td>0</td>\n",
              "      <td>0</td>\n",
              "      <td>0</td>\n",
              "      <td>0</td>\n",
              "      <td>0</td>\n",
              "      <td>0</td>\n",
              "      <td>0</td>\n",
              "      <td>0</td>\n",
              "      <td>0</td>\n",
              "      <td>1</td>\n",
              "      <td>0</td>\n",
              "      <td>0</td>\n",
              "      <td>0</td>\n",
              "      <td>0</td>\n",
              "      <td>0</td>\n",
              "    </tr>\n",
              "    <tr>\n",
              "      <th>3</th>\n",
              "      <td>871</td>\n",
              "      <td>2</td>\n",
              "      <td>2</td>\n",
              "      <td>2</td>\n",
              "      <td>2500</td>\n",
              "      <td>0</td>\n",
              "      <td>0</td>\n",
              "      <td>0</td>\n",
              "      <td>1</td>\n",
              "      <td>1</td>\n",
              "      <td>0</td>\n",
              "      <td>0</td>\n",
              "      <td>0</td>\n",
              "      <td>0</td>\n",
              "      <td>0</td>\n",
              "      <td>0</td>\n",
              "      <td>0</td>\n",
              "      <td>0</td>\n",
              "      <td>0</td>\n",
              "      <td>0</td>\n",
              "      <td>0</td>\n",
              "      <td>1</td>\n",
              "      <td>0</td>\n",
              "      <td>0</td>\n",
              "      <td>0</td>\n",
              "      <td>0</td>\n",
              "      <td>0</td>\n",
              "    </tr>\n",
              "    <tr>\n",
              "      <th>4</th>\n",
              "      <td>700</td>\n",
              "      <td>1</td>\n",
              "      <td>1</td>\n",
              "      <td>1</td>\n",
              "      <td>1300</td>\n",
              "      <td>0</td>\n",
              "      <td>0</td>\n",
              "      <td>0</td>\n",
              "      <td>1</td>\n",
              "      <td>0</td>\n",
              "      <td>1</td>\n",
              "      <td>0</td>\n",
              "      <td>0</td>\n",
              "      <td>0</td>\n",
              "      <td>0</td>\n",
              "      <td>0</td>\n",
              "      <td>0</td>\n",
              "      <td>0</td>\n",
              "      <td>0</td>\n",
              "      <td>0</td>\n",
              "      <td>0</td>\n",
              "      <td>1</td>\n",
              "      <td>0</td>\n",
              "      <td>0</td>\n",
              "      <td>0</td>\n",
              "      <td>0</td>\n",
              "      <td>0</td>\n",
              "    </tr>\n",
              "  </tbody>\n",
              "</table>\n",
              "</div>"
            ],
            "text/plain": [
              "   BuiltUpSize  ...  PropertyType_Townhouse\n",
              "0         1000  ...                       0\n",
              "1         1057  ...                       0\n",
              "2         1488  ...                       0\n",
              "3          871  ...                       0\n",
              "4          700  ...                       0\n",
              "\n",
              "[5 rows x 27 columns]"
            ]
          },
          "metadata": {
            "tags": []
          },
          "execution_count": 142
        }
      ]
    },
    {
      "cell_type": "code",
      "metadata": {
        "id": "CmWgiDcENpno"
      },
      "source": [
        "X = data_frame_with_dummy.drop(columns=[\"RentalPerMth\"])\n",
        "Y = data_frame_with_dummy[\"RentalPerMth\"]"
      ],
      "execution_count": 144,
      "outputs": []
    },
    {
      "cell_type": "markdown",
      "metadata": {
        "id": "GNzVO8FDNvaj"
      },
      "source": [
        "**Train Test split**"
      ]
    },
    {
      "cell_type": "code",
      "metadata": {
        "id": "qSbCbEJJNuMm"
      },
      "source": [
        "from sklearn.model_selection import train_test_split\n",
        "X_train, X_test, y_train, y_test = train_test_split(X, Y, test_size=0.2, random_state=0)"
      ],
      "execution_count": 146,
      "outputs": []
    },
    {
      "cell_type": "markdown",
      "metadata": {
        "id": "Vpei-SR9Ob9u"
      },
      "source": [
        "**Regression**"
      ]
    },
    {
      "cell_type": "code",
      "metadata": {
        "colab": {
          "base_uri": "https://localhost:8080/"
        },
        "id": "Pi_FGxAOOB31",
        "outputId": "adc770cc-fe18-4811-b2bb-50757a582cc8"
      },
      "source": [
        "from sklearn.linear_model import LinearRegression\n",
        "regressor = LinearRegression()\n",
        "regressor.fit(X_train, y_train)"
      ],
      "execution_count": 148,
      "outputs": [
        {
          "output_type": "execute_result",
          "data": {
            "text/plain": [
              "LinearRegression(copy_X=True, fit_intercept=True, n_jobs=None, normalize=False)"
            ]
          },
          "metadata": {
            "tags": []
          },
          "execution_count": 148
        }
      ]
    },
    {
      "cell_type": "code",
      "metadata": {
        "id": "Etu08LqjOvh2"
      },
      "source": [
        "y_pred = regressor.predict(X_test)"
      ],
      "execution_count": 152,
      "outputs": []
    },
    {
      "cell_type": "code",
      "metadata": {
        "colab": {
          "base_uri": "https://localhost:8080/"
        },
        "id": "xmbql2wHOgZw",
        "outputId": "57ef44d5-ff93-4069-c0c4-163213cac77d"
      },
      "source": [
        "regressor.score(X_test, y_test)"
      ],
      "execution_count": 153,
      "outputs": [
        {
          "output_type": "execute_result",
          "data": {
            "text/plain": [
              "0.4251289757122978"
            ]
          },
          "metadata": {
            "tags": []
          },
          "execution_count": 153
        }
      ]
    }
  ]
}